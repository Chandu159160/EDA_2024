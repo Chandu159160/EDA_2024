{
 "cells": [
  {
   "cell_type": "markdown",
   "id": "15dfc468-6265-4f93-af80-190d91407a9e",
   "metadata": {},
   "source": [
    "## DATATYPES"
   ]
  },
  {
   "cell_type": "markdown",
   "id": "6af023d1-fced-4b14-8e2c-25bc44c86702",
   "metadata": {},
   "source": [
    "- IN PYTHON TYPE DECLARE NOT REQUIRED\n",
    "\n",
    "- PYTHON WILL BE AUTOMATICALLY TAKES THR TYPE BASED ON PROVIDED VALUE\n",
    "\n",
    "- WE HAVE MANY DATA TYPES AVAILABLE\n",
    "\n",
    "- THE MAIN DATA TYPES ARE\n",
    "   - INTEGER\n",
    "   - FLOAT\n",
    "   - BOOLEAN\n",
    "   - STRING\n",
    "  - LIST\n",
    "  - DICTONARY\n",
    "  - TUPLE\n",
    "  - COMPLEX\n",
    "\n",
    "### INTEGER\n",
    "\n",
    "  "
   ]
  },
  {
   "cell_type": "code",
   "execution_count": 3,
   "id": "6be08d00-8ed3-40d3-85c1-a313224d34f8",
   "metadata": {},
   "outputs": [
    {
     "data": {
      "text/plain": [
       "int"
      ]
     },
     "execution_count": 3,
     "metadata": {},
     "output_type": "execute_result"
    }
   ],
   "source": [
    "n=100\n",
    "type(n)"
   ]
  },
  {
   "cell_type": "markdown",
   "id": "9317fd2b-f67c-4ab1-9f14-0828084fe4f0",
   "metadata": {},
   "source": [
    "- binary representation\n",
    "\n",
    "- octa representation\n",
    "\n",
    "- hexa representation"
   ]
  },
  {
   "cell_type": "code",
   "execution_count": 4,
   "id": "ceefc09d-4e08-430a-b164-c971023bd95f",
   "metadata": {},
   "outputs": [
    {
     "data": {
      "text/plain": [
       "200"
      ]
     },
     "execution_count": 4,
     "metadata": {},
     "output_type": "execute_result"
    }
   ],
   "source": [
    "100000\n",
    "100\n",
    "200"
   ]
  },
  {
   "cell_type": "markdown",
   "id": "1429e116-7eb3-4452-84cb-c62cbfd32671",
   "metadata": {},
   "source": [
    "- bi mean2\n",
    "\n",
    "- so it requires 2 digits\n",
    "\n",
    "- generally we have 0 1 2 3 4 5 6 7 8 9\n",
    "\n",
    "- so it will represent with only 0 and 1\n",
    "\n",
    "- representation is 0b10,0b01111,0B111\n",
    "\n",
    "- wrong representation is 0b102, 0b007"
   ]
  },
  {
   "cell_type": "code",
   "execution_count": 5,
   "id": "788818c2-6a7c-42eb-9fe8-e889d71addd0",
   "metadata": {},
   "outputs": [
    {
     "data": {
      "text/plain": [
       "7"
      ]
     },
     "execution_count": 5,
     "metadata": {},
     "output_type": "execute_result"
    }
   ],
   "source": [
    "0b111"
   ]
  },
  {
   "cell_type": "code",
   "execution_count": 6,
   "id": "2f0f30c9-17f5-42fa-a7b4-93841d2791b0",
   "metadata": {},
   "outputs": [
    {
     "ename": "SyntaxError",
     "evalue": "leading zeros in decimal integer literals are not permitted; use an 0o prefix for octal integers (976204334.py, line 1)",
     "output_type": "error",
     "traceback": [
      "\u001b[1;36m  Cell \u001b[1;32mIn[6], line 1\u001b[1;36m\u001b[0m\n\u001b[1;33m    0111\u001b[0m\n\u001b[1;37m    ^\u001b[0m\n\u001b[1;31mSyntaxError\u001b[0m\u001b[1;31m:\u001b[0m leading zeros in decimal integer literals are not permitted; use an 0o prefix for octal integers\n"
     ]
    }
   ],
   "source": [
    "0111\n"
   ]
  },
  {
   "cell_type": "code",
   "execution_count": 14,
   "id": "0481aae6-7191-4b02-aa29-3e3e3a007bbe",
   "metadata": {},
   "outputs": [
    {
     "data": {
      "text/plain": [
       "65"
      ]
     },
     "execution_count": 14,
     "metadata": {},
     "output_type": "execute_result"
    }
   ],
   "source": [
    "0o101"
   ]
  },
  {
   "cell_type": "code",
   "execution_count": 8,
   "id": "970a1a77-32b7-4d65-bc3b-ce439b4317ce",
   "metadata": {},
   "outputs": [
    {
     "data": {
      "text/plain": [
       "5"
      ]
     },
     "execution_count": 8,
     "metadata": {},
     "output_type": "execute_result"
    }
   ],
   "source": [
    "0b101"
   ]
  },
  {
   "cell_type": "code",
   "execution_count": 9,
   "id": "88c93b10-e4d0-41c2-b396-c00fa6ed64c9",
   "metadata": {},
   "outputs": [
    {
     "data": {
      "text/plain": [
       "4"
      ]
     },
     "execution_count": 9,
     "metadata": {},
     "output_type": "execute_result"
    }
   ],
   "source": [
    "0b100"
   ]
  },
  {
   "cell_type": "code",
   "execution_count": 10,
   "id": "d3759b89-684c-44d3-b304-391225cd1348",
   "metadata": {},
   "outputs": [
    {
     "ename": "SyntaxError",
     "evalue": "invalid decimal literal (3864940928.py, line 1)",
     "output_type": "error",
     "traceback": [
      "\u001b[1;36m  Cell \u001b[1;32mIn[10], line 1\u001b[1;36m\u001b[0m\n\u001b[1;33m    00b11\u001b[0m\n\u001b[1;37m     ^\u001b[0m\n\u001b[1;31mSyntaxError\u001b[0m\u001b[1;31m:\u001b[0m invalid decimal literal\n"
     ]
    }
   ],
   "source": [
    "00b11"
   ]
  },
  {
   "cell_type": "code",
   "execution_count": 11,
   "id": "5f38c51c-b2f9-48ab-a957-998d4e22c86b",
   "metadata": {},
   "outputs": [
    {
     "data": {
      "text/plain": [
       "17"
      ]
     },
     "execution_count": 11,
     "metadata": {},
     "output_type": "execute_result"
    }
   ],
   "source": [
    "0b10001"
   ]
  },
  {
   "cell_type": "code",
   "execution_count": 15,
   "id": "94dcdf3c-6983-4869-b0fe-4f68627f3625",
   "metadata": {},
   "outputs": [
    {
     "ename": "SyntaxError",
     "evalue": "invalid decimal literal (3527409392.py, line 1)",
     "output_type": "error",
     "traceback": [
      "\u001b[1;36m  Cell \u001b[1;32mIn[15], line 1\u001b[1;36m\u001b[0m\n\u001b[1;33m    0h111\u001b[0m\n\u001b[1;37m    ^\u001b[0m\n\u001b[1;31mSyntaxError\u001b[0m\u001b[1;31m:\u001b[0m invalid decimal literal\n"
     ]
    }
   ],
   "source": [
    "0h111"
   ]
  },
  {
   "cell_type": "code",
   "execution_count": 12,
   "id": "aefdc098-76da-4518-9dbf-e31469967059",
   "metadata": {},
   "outputs": [],
   "source": [
    "import os"
   ]
  },
  {
   "cell_type": "code",
   "execution_count": 13,
   "id": "858ec67f-87be-4a64-8ed1-ebb9d69d9ee5",
   "metadata": {},
   "outputs": [
    {
     "data": {
      "text/plain": [
       "'C:\\\\Users\\\\91800\\\\Documents\\\\python notes'"
      ]
     },
     "execution_count": 13,
     "metadata": {},
     "output_type": "execute_result"
    }
   ],
   "source": [
    "os.getcwd()\n",
    "# get current working directory\n",
    "#it will give the path \n",
    "# where our python file located "
   ]
  },
  {
   "cell_type": "code",
   "execution_count": 16,
   "id": "b6725e79-839b-4d8d-b7b9-85d192ccc861",
   "metadata": {},
   "outputs": [
    {
     "ename": "SyntaxError",
     "evalue": "invalid syntax (3077404174.py, line 1)",
     "output_type": "error",
     "traceback": [
      "\u001b[1;36m  Cell \u001b[1;32mIn[16], line 1\u001b[1;36m\u001b[0m\n\u001b[1;33m    8 4 2 1  num\u001b[0m\n\u001b[1;37m      ^\u001b[0m\n\u001b[1;31mSyntaxError\u001b[0m\u001b[1;31m:\u001b[0m invalid syntax\n"
     ]
    }
   ],
   "source": [
    "8 4 2 1  num"
   ]
  },
  {
   "cell_type": "code",
   "execution_count": 17,
   "id": "0d7c492c-eb34-46e0-a587-4aedb6eb3a1e",
   "metadata": {},
   "outputs": [
    {
     "data": {
      "text/plain": [
       "75"
      ]
     },
     "execution_count": 17,
     "metadata": {},
     "output_type": "execute_result"
    }
   ],
   "source": [
    "0b1001011"
   ]
  },
  {
   "cell_type": "code",
   "execution_count": 18,
   "id": "adc07dee-d72f-418f-bade-8d5f60a294c1",
   "metadata": {},
   "outputs": [
    {
     "data": {
      "text/plain": [
       "59"
      ]
     },
     "execution_count": 18,
     "metadata": {},
     "output_type": "execute_result"
    }
   ],
   "source": [
    "0b111011"
   ]
  },
  {
   "cell_type": "markdown",
   "id": "b16be658-0008-4aa8-a33e-bf34c4cbd4f3",
   "metadata": {},
   "source": [
    "## OCTAL\n",
    "- OCTA MEAN 8\n",
    "- SO IT REQUIRE S 8 DIGITS\n",
    "- GENERALLY WE HAVE 0 1 2 3 4 5 6 7 8 9\n",
    "- SO IT WILL REPRESENT WITH ONLY 0 1 2 3 4 5 6 7\n",
    "- REPRESENTATION IS 0O123, 0o12345, 0o754342\n",
    "- wring representation is 0o108 0o987"
   ]
  },
  {
   "cell_type": "code",
   "execution_count": 19,
   "id": "1a5360b1-81be-452d-99ea-5af5c01db807",
   "metadata": {},
   "outputs": [
    {
     "data": {
      "text/plain": [
       "83"
      ]
     },
     "execution_count": 19,
     "metadata": {},
     "output_type": "execute_result"
    }
   ],
   "source": [
    "0o123"
   ]
  },
  {
   "cell_type": "code",
   "execution_count": 20,
   "id": "35e7fb49-50fc-4e90-8606-4040cdfd6aac",
   "metadata": {},
   "outputs": [
    {
     "data": {
      "text/plain": [
       "'0o5'"
      ]
     },
     "execution_count": 20,
     "metadata": {},
     "output_type": "execute_result"
    }
   ],
   "source": [
    "oct(5)"
   ]
  },
  {
   "cell_type": "code",
   "execution_count": 21,
   "id": "5de43e86-8239-4aa4-b824-4b746c30a3d4",
   "metadata": {},
   "outputs": [
    {
     "data": {
      "text/plain": [
       "100"
      ]
     },
     "execution_count": 21,
     "metadata": {},
     "output_type": "execute_result"
    }
   ],
   "source": [
    "100"
   ]
  },
  {
   "cell_type": "code",
   "execution_count": 24,
   "id": "c1f8fa87-28f6-46a2-81e1-93fd725fb136",
   "metadata": {},
   "outputs": [
    {
     "ename": "SyntaxError",
     "evalue": "invalid syntax (2973522073.py, line 1)",
     "output_type": "error",
     "traceback": [
      "\u001b[1;36m  Cell \u001b[1;32mIn[24], line 1\u001b[1;36m\u001b[0m\n\u001b[1;33m    8  4  2  1    num\u001b[0m\n\u001b[1;37m       ^\u001b[0m\n\u001b[1;31mSyntaxError\u001b[0m\u001b[1;31m:\u001b[0m invalid syntax\n"
     ]
    }
   ],
   "source": [
    "8  4  2  1    num\n",
    "0  0  0  0    0\n",
    "0  0  0  1    1\n",
    "0  0  1  0    2\n",
    "0  0  1  1    3\n",
    "0  1  0  0    4\n",
    "0  1  0  1    5\n",
    "0  1  1  0    6\n",
    "0  1  1  1    7\n",
    "1  0  0  0    8\n",
    "1  0  0  1    9\n",
    "1  0  1  0    10\n",
    "1  0  1  1    11\n",
    "1  1  0  0    12\n",
    "1  1  0  1    13\n",
    "1  1  1  0    14\n",
    "1  1  1  1    15\n",
    "\n",
    "8  4  2  1"
   ]
  },
  {
   "cell_type": "code",
   "execution_count": null,
   "id": "1d6c38e7-ffee-48e6-b915-6215fa9b55fb",
   "metadata": {},
   "outputs": [],
   "source": []
  }
 ],
 "metadata": {
  "kernelspec": {
   "display_name": "Python 3 (ipykernel)",
   "language": "python",
   "name": "python3"
  },
  "language_info": {
   "codemirror_mode": {
    "name": "ipython",
    "version": 3
   },
   "file_extension": ".py",
   "mimetype": "text/x-python",
   "name": "python",
   "nbconvert_exporter": "python",
   "pygments_lexer": "ipython3",
   "version": "3.11.7"
  }
 },
 "nbformat": 4,
 "nbformat_minor": 5
}
