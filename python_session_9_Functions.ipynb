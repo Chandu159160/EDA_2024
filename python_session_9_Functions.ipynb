{
 "cells": [
  {
   "cell_type": "markdown",
   "id": "73f7fb0c-718c-4225-896c-384d39b83c18",
   "metadata": {},
   "source": [
    "# Functions"
   ]
  },
  {
   "cell_type": "markdown",
   "id": "6b9fca7d-bc98-47db-adfb-f508516d239d",
   "metadata": {},
   "source": [
    "- A block of cide which we can use many times"
   ]
  },
  {
   "cell_type": "code",
   "execution_count": 4,
   "id": "a735cb6b-46c9-4e69-ba94-fe0379d61320",
   "metadata": {},
   "outputs": [
    {
     "name": "stdout",
     "output_type": "stream",
     "text": [
      "30\n"
     ]
    }
   ],
   "source": [
    "num1=10\n",
    "num2=20\n",
    "add=num1+num2\n",
    "print(add)"
   ]
  },
  {
   "cell_type": "code",
   "execution_count": null,
   "id": "0b3e8ac0-7f37-470c-9c78-654c999a8acb",
   "metadata": {},
   "outputs": [],
   "source": [
    "def <function_name>():\n",
    "    codelines"
   ]
  },
  {
   "cell_type": "code",
   "execution_count": 9,
   "id": "a03fc6e9-84df-4e7c-bac1-bcd9ec1d51bd",
   "metadata": {},
   "outputs": [
    {
     "name": "stdout",
     "output_type": "stream",
     "text": [
      "num1 is:  10\n",
      "num2 is:  20\n",
      "the addition of 10 and 20 is :30\n"
     ]
    }
   ],
   "source": [
    "def addition():\n",
    "    num1=10\n",
    "    print(\"num1 is: \",num1)\n",
    "    num2=20\n",
    "    print(\"num2 is: \",num2)\n",
    "    add=num1+num2\n",
    "    print(f\"the addition of {num1} and {num2} is :{add}\")\n",
    "addition()"
   ]
  },
  {
   "cell_type": "code",
   "execution_count": 7,
   "id": "3102c50f-872d-4824-a632-d84c8f16e725",
   "metadata": {},
   "outputs": [],
   "source": [
    "# function name: addition\n",
    "# in order to execute code lines\n",
    "# we need to call the function"
   ]
  },
  {
   "cell_type": "code",
   "execution_count": 8,
   "id": "90bb4d56-6be5-4dbe-a596-53bab284beef",
   "metadata": {},
   "outputs": [
    {
     "name": "stdout",
     "output_type": "stream",
     "text": [
      "30\n"
     ]
    }
   ],
   "source": [
    "addition()"
   ]
  },
  {
   "cell_type": "markdown",
   "id": "d8f4581c-f1e5-4766-8f21-82026190e2da",
   "metadata": {},
   "source": [
    "## NOTE\n",
    "\n",
    "- function names can be anything\n",
    "\n",
    "- same rules applicable as variable rules\n",
    "\n",
    "- whenever you create the func() make sure the indentation correctly \n",
    "\n",
    "- starting with a keyword, ending with a colon then code lines start with indentation\n",
    "\n",
    "- bracket means the function \n",
    "\n",
    "- never miss teh brackets whenever u call the func()\n",
    "\n",
    "- if u want to execute the code we need to call the func()\n",
    "\n",
    "- while u calling the func() if u see the func() or bound method \n",
    "\n",
    "- which means u miss the brackets"
   ]
  },
  {
   "cell_type": "code",
   "execution_count": 10,
   "id": "f31ff215-a97c-4bba-963e-5f4b57a838a7",
   "metadata": {},
   "outputs": [
    {
     "ename": "SyntaxError",
     "evalue": "expected '(' (2959177747.py, line 1)",
     "output_type": "error",
     "traceback": [
      "\u001b[1;36m  Cell \u001b[1;32mIn[10], line 1\u001b[1;36m\u001b[0m\n\u001b[1;33m    def add one()    #wrong defining here because space between func name and missed ':'\u001b[0m\n\u001b[1;37m            ^\u001b[0m\n\u001b[1;31mSyntaxError\u001b[0m\u001b[1;31m:\u001b[0m expected '('\n"
     ]
    }
   ],
   "source": [
    "def add one()    #wrong defining here because space between func name and missed ':'"
   ]
  },
  {
   "cell_type": "code",
   "execution_count": 11,
   "id": "54d83712-65c6-4f8f-b86b-c29f9c9cfb74",
   "metadata": {},
   "outputs": [
    {
     "ename": "NameError",
     "evalue": "name 'num1111' is not defined",
     "output_type": "error",
     "traceback": [
      "\u001b[1;31m---------------------------------------------------------------------------\u001b[0m",
      "\u001b[1;31mNameError\u001b[0m                                 Traceback (most recent call last)",
      "Cell \u001b[1;32mIn[11], line 3\u001b[0m\n\u001b[0;32m      1\u001b[0m num1\u001b[38;5;241m=\u001b[39m\u001b[38;5;241m10\u001b[39m\n\u001b[0;32m      2\u001b[0m num2\u001b[38;5;241m=\u001b[39m\u001b[38;5;241m20\u001b[39m\n\u001b[1;32m----> 3\u001b[0m add\u001b[38;5;241m=\u001b[39mnum1111\u001b[38;5;241m+\u001b[39mnum2\n\u001b[0;32m      4\u001b[0m \u001b[38;5;28mprint\u001b[39m(add)\n",
      "\u001b[1;31mNameError\u001b[0m: name 'num1111' is not defined"
     ]
    }
   ],
   "source": [
    "num1=10\n",
    "num2=20\n",
    "add=num1111+num2\n",
    "print(add)"
   ]
  },
  {
   "cell_type": "code",
   "execution_count": 36,
   "id": "9eaea0ae-e424-4c4c-8767-1a0f088ee404",
   "metadata": {},
   "outputs": [
    {
     "data": {
      "text/plain": [
       "<function __main__.func()>"
      ]
     },
     "execution_count": 36,
     "metadata": {},
     "output_type": "execute_result"
    }
   ],
   "source": [
    "def func():\n",
    "    num1=10\n",
    "    print(num1)\n",
    "func"
   ]
  },
  {
   "cell_type": "code",
   "execution_count": 13,
   "id": "204b71a1-1fc6-4486-9053-357c10e33434",
   "metadata": {},
   "outputs": [
    {
     "name": "stdout",
     "output_type": "stream",
     "text": [
      "num1 is:  10\n",
      "num2 is:  20\n",
      "the addition of 10 and 20 is :30\n"
     ]
    }
   ],
   "source": [
    "def addition():\n",
    "    num1=10\n",
    "    print(\"num1 is: \",num1)\n",
    "    num2=20\n",
    "    print(\"num2 is: \",num2)\n",
    "    add=num1+num2\n",
    "    print(f\"the addition of {num1} and {num2} is : {add}\")\n",
    "addition()"
   ]
  },
  {
   "cell_type": "markdown",
   "id": "538f35a0-070e-45c5-a4d5-c1ddbad4a67c",
   "metadata": {},
   "source": [
    "## Whenever we define the func() it doesnot show any error until unless we call the func()"
   ]
  },
  {
   "cell_type": "code",
   "execution_count": null,
   "id": "6173fe68-614f-43b1-8571-afc5fba6424a",
   "metadata": {},
   "outputs": [],
   "source": [
    "# wap to create the function for average \n",
    "# write normal "
   ]
  },
  {
   "cell_type": "code",
   "execution_count": 16,
   "id": "ab6443c4-f402-4989-b124-559472c4a3eb",
   "metadata": {},
   "outputs": [
    {
     "name": "stdin",
     "output_type": "stream",
     "text": [
      "enter the num1 value:  4\n",
      "enter the num2 value:  5\n",
      "enter the num3 value:  6\n"
     ]
    },
    {
     "name": "stdout",
     "output_type": "stream",
     "text": [
      "the average of 4 , 5 , 6 is 5.0\n"
     ]
    }
   ],
   "source": [
    "# wap ask the user enter 3 numbers calculate the average\n",
    "def avg():\n",
    "    num1=eval(input(\"enter the num1 value: \"))\n",
    "    num2=eval(input(\"enter the num2 value: \"))\n",
    "    num3=eval(input(\"enter the num3 value: \"))\n",
    "    avg=(num1+num2+num3)/3\n",
    "    avg1=round(avg,2)\n",
    "    print(f\"the average of {num1} , {num2} , {num3} is {avg1}\")\n",
    "avg()"
   ]
  },
  {
   "cell_type": "code",
   "execution_count": 20,
   "id": "800a1cb5-ce51-4b86-a4b2-d90d8fc51590",
   "metadata": {},
   "outputs": [
    {
     "name": "stdin",
     "output_type": "stream",
     "text": [
      "Enter the radius:  6\n"
     ]
    },
    {
     "name": "stdout",
     "output_type": "stream",
     "text": [
      "the area of the circle is :113.10\n"
     ]
    }
   ],
   "source": [
    "# wap ask the user to enter the radius value find the area of the circle\n",
    "import math\n",
    "def area():\n",
    "    r=eval(input(\"Enter the radius: \"))\n",
    "    a=math.pi*(r**2)\n",
    "    print(f\"the area of the circle is :{a:.2f}\")\n",
    "area()"
   ]
  },
  {
   "cell_type": "code",
   "execution_count": 22,
   "id": "aa69e8d2-a8f7-4c5a-bf23-f553bd2cbb72",
   "metadata": {},
   "outputs": [
    {
     "name": "stdin",
     "output_type": "stream",
     "text": [
      "Enter the bill amount:  5000\n",
      "Enter the tip amount in percentage:  4\n"
     ]
    },
    {
     "name": "stdout",
     "output_type": "stream",
     "text": [
      "the total bill amount is: 200.0\n"
     ]
    }
   ],
   "source": [
    "# wap ask the user bill amount,\n",
    "#         ask the user how much tip you want pay in percentage\n",
    "#         calculate total bill\n",
    "\n",
    "def bill():\n",
    "    bill_amount=eval(input(\"Enter the bill amount: \"))\n",
    "    tip_amount=eval(input(\"Enter the tip amount in percentage: \"))\n",
    "    total_bill=bill_amount*(tip_amount/100)\n",
    "    print(f\"the total bill amount is: {total_bill}\")\n",
    "bill()"
   ]
  },
  {
   "cell_type": "markdown",
   "id": "cadadf2a-8515-4c84-bbff-18d96418a887",
   "metadata": {},
   "source": [
    "**Funtion without arguments**\n",
    "- while we are defining functions if nothing mentioned means\n",
    "- it is called as function without arguments"
   ]
  },
  {
   "cell_type": "markdown",
   "id": "aadd817b-e28b-448a-b748-675cf27e15ef",
   "metadata": {},
   "source": [
    "### Function with arguments\n",
    "\n",
    "- First look at how many arguments or variables are there\n",
    "\n",
    "- In that how many input variables are there\n",
    "\n",
    "- How many output variables are there\n",
    "\n",
    "- Input variables means user can define\n",
    "\n",
    "- Output variables means python gives the output\n",
    "\n",
    "- we can use only input variables as arguments inside the function"
   ]
  },
  {
   "cell_type": "code",
   "execution_count": 27,
   "id": "9149b6cb-fd48-4daf-95e4-5827cb6ab58a",
   "metadata": {},
   "outputs": [
    {
     "name": "stdout",
     "output_type": "stream",
     "text": [
      "the addition of 10 and 20 is :30\n"
     ]
    }
   ],
   "source": [
    "def addition2(num1,num2):\n",
    "    add=num1+num2\n",
    "    print(f\"the addition of {num1} and {num2} is :{add}\")\n",
    "    \n",
    "addition2(10,20)"
   ]
  },
  {
   "cell_type": "code",
   "execution_count": 28,
   "id": "d341bb98-0dfc-47c0-9840-bbd1e258fdc1",
   "metadata": {},
   "outputs": [
    {
     "name": "stdout",
     "output_type": "stream",
     "text": [
      "the average of 4 , 5 , 6 is 5.0\n"
     ]
    }
   ],
   "source": [
    "def avg2(num1,num2,num3):\n",
    "    avg=(num1+num2+num3)/3\n",
    "    avg1=round(avg,2)\n",
    "    print(f\"the average of {num1} , {num2} , {num3} is {avg1}\")\n",
    "    \n",
    "avg2(4,5,6)"
   ]
  },
  {
   "cell_type": "code",
   "execution_count": 30,
   "id": "7be71774-9c3d-4ba3-b996-335c172518cc",
   "metadata": {},
   "outputs": [
    {
     "name": "stdout",
     "output_type": "stream",
     "text": [
      "the area of the triangle is: 6.00\n"
     ]
    }
   ],
   "source": [
    "#wap ask the user enter the height base calculate area of the triangle\n",
    "def traingle(b,h):\n",
    "    a_o_t=0.2*b*h\n",
    "    print(f\"the area of the triangle is: {a_o_t:.2f}\")\n",
    "traingle(6,5)"
   ]
  },
  {
   "cell_type": "code",
   "execution_count": 1,
   "id": "fb008e06-c06e-4e55-9a52-bc71e49b5bed",
   "metadata": {},
   "outputs": [
    {
     "name": "stdin",
     "output_type": "stream",
     "text": [
      "Enter n1 8\n",
      "Enter n2 9\n"
     ]
    },
    {
     "name": "stdout",
     "output_type": "stream",
     "text": [
      "-1\n"
     ]
    }
   ],
   "source": [
    "def sub():\n",
    "    n1=eval(input(\"Enter n1\"))\n",
    "    n2=eval(input(\"Enter n2\"))\n",
    "    sub=n1-n2\n",
    "    print(sub)\n",
    "sub()\n"
   ]
  },
  {
   "cell_type": "code",
   "execution_count": null,
   "id": "e1e2f5cb-1dbf-4e42-9015-e3f2640ce69a",
   "metadata": {},
   "outputs": [],
   "source": []
  }
 ],
 "metadata": {
  "kernelspec": {
   "display_name": "Python 3 (ipykernel)",
   "language": "python",
   "name": "python3"
  },
  "language_info": {
   "codemirror_mode": {
    "name": "ipython",
    "version": 3
   },
   "file_extension": ".py",
   "mimetype": "text/x-python",
   "name": "python",
   "nbconvert_exporter": "python",
   "pygments_lexer": "ipython3",
   "version": "3.11.7"
  }
 },
 "nbformat": 4,
 "nbformat_minor": 5
}
